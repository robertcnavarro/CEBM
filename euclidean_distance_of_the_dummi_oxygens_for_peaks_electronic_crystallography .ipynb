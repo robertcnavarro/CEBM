{
 "cells": [
  {
   "cell_type": "code",
   "execution_count": null,
   "id": "6677cf5a",
   "metadata": {},
   "outputs": [],
   "source": [
    "import subprocess\n",
    "\n",
    "for i in range(1, 130):\n",
    "    mtz_file = f'/home/roberto/test2/output/C/{i}/{i}A.log_polder_map_coeffs.mtz'\n",
    "    pdb_file = 'input-coot-3.pdb'\n",
    "    command = f'phenix.mtz2map {mtz_file} {pdb_file}'\n",
    "    subprocess.run(command, shell=True)"
   ]
  },
  {
   "cell_type": "code",
   "execution_count": 1,
   "id": "15f422cb",
   "metadata": {},
   "outputs": [
    {
     "name": "stdout",
     "output_type": "stream",
     "text": [
      "Available map coefficients in this MTZ file:\n",
      "  ['mFo-DFc_polder,PHImFo-DFc_polder']\n",
      "  ['mFo-DFc_omit,PHImFo-DFc_omit']\n",
      "Processing map: mFo-DFc_polder,PHImFo-DFc_polder\n",
      "  applying sigma-scaling\n",
      "  wrote /media/roberto/DAE01F61E01F4365/posdoctoral_barcelona/map-peaks/C2_polder.log_polder_map_coeffs_1.ccp4\n",
      "Processing map: mFo-DFc_omit,PHImFo-DFc_omit\n",
      "  applying sigma-scaling\n",
      "  wrote /media/roberto/DAE01F61E01F4365/posdoctoral_barcelona/map-peaks/C2_polder.log_polder_map_coeffs_2.ccp4\n",
      "Available map coefficients in this MTZ file:\n",
      "  ['mFo-DFc_polder,PHImFo-DFc_polder']\n",
      "  ['mFo-DFc_omit,PHImFo-DFc_omit']\n",
      "Processing map: mFo-DFc_polder,PHImFo-DFc_polder\n",
      "  applying sigma-scaling\n",
      "  wrote /media/roberto/DAE01F61E01F4365/posdoctoral_barcelona/map-peaks/C3_polder.log_polder_map_coeffs_1.ccp4\n",
      "Processing map: mFo-DFc_omit,PHImFo-DFc_omit\n",
      "  applying sigma-scaling\n",
      "  wrote /media/roberto/DAE01F61E01F4365/posdoctoral_barcelona/map-peaks/C3_polder.log_polder_map_coeffs_2.ccp4\n"
     ]
    }
   ],
   "source": [
    "import subprocess\n",
    "\n",
    "for i in range(2, 4):\n",
    "    mtz_file = f'/home/roberto/test2/output/mainchain/C{i}_polder.log_polder_map_coeffs.mtz'\n",
    "    pdb_file = 'input-coot-3.pdb'\n",
    "    command = f'phenix.mtz2map {mtz_file} {pdb_file}'\n",
    "    subprocess.run(command, shell=True)"
   ]
  },
  {
   "cell_type": "code",
   "execution_count": 2,
   "id": "8d918b74",
   "metadata": {},
   "outputs": [],
   "source": [
    "import subprocess\n",
    "\n",
    "mapdump_command = \"/opt/xtal/ccp4-8.0/bin/mapdump\"\n",
    "mapin_file = \"/media/roberto/DAE01F61E01F4365/posdoctoral_barcelona/map-peaks/C1_polder.log_polder_map_coeffs_1.ccp4\"\n",
    "\n",
    "mapdump_args = [mapdump_command, \"MAPIN\", mapin_file]\n",
    "mapdump_process = subprocess.run(mapdump_args, capture_output=True)\n",
    "\n",
    "mapmask_command = \"/opt/xtal/ccp4-8.0/bin/mapmask\"\n",
    "mapout_file = \"/tmp/roberto/test2_2_3_map_Z.tmp\"\n",
    "\n",
    "mapmask_args = [mapmask_command, \"MAPIN\", mapin_file, \"MAPOUT\", mapout_file]\n",
    "mapmask_process = subprocess.run(mapmask_args, capture_output=True)"
   ]
  },
  {
   "cell_type": "code",
   "execution_count": null,
   "id": "ff1a6994",
   "metadata": {},
   "outputs": [],
   "source": [
    "import subprocess\n",
    "\n",
    "mapdump_command = \"/opt/xtal/ccp4-8.0/bin/mapdump\"\n",
    "mapmask_command = \"/opt/xtal/ccp4-8.0/bin/mapmask\"\n",
    "\n",
    "for c1 in range(1, 130):\n",
    "    # Construct input and output file paths for this C1 structure\n",
    "    mapin_file = f\"/media/roberto/DAE01F61E01F4365/posdoctoral_barcelona/map-peaks/C{c1}_polder.log_polder_map_coeffs_1.ccp4\"\n",
    "    mapout_file = f\"/tmp/roberto/test2_2_3_map_Z_C{c1}.tmp\"\n",
    "\n",
    "    # Run mapdump command\n",
    "    mapdump_args = [mapdump_command, \"MAPIN\", mapin_file]\n",
    "    mapdump_process = subprocess.run(mapdump_args, capture_output=True)\n",
    "\n",
    "    # Run mapmask command\n",
    "    mapmask_args = [mapmask_command, \"MAPIN\", mapin_file, \"MAPOUT\", mapout_file]\n",
    "    mapmask_process = subprocess.run(mapmask_args, capture_output=True)"
   ]
  },
  {
   "cell_type": "code",
   "execution_count": 4,
   "id": "239605f0",
   "metadata": {},
   "outputs": [],
   "source": [
    "import subprocess\n",
    "\n",
    "mapdump_command = \"/opt/xtal/ccp4-8.0/bin/mapdump\"\n",
    "mapmask_command = \"/opt/xtal/ccp4-8.0/bin/mapmask\"\n",
    "\n",
    "for c1 in range(2, 4):\n",
    "    # Construct input and output file paths for this C1 structure\n",
    "    mapin_file = f\"/media/roberto/DAE01F61E01F4365/posdoctoral_barcelona/map-peaks/C{c1}_polder.log_polder_map_coeffs_1.ccp4\"\n",
    "    mapout_file = f\"/tmp/roberto/test2_2_3_map_Z_C{c1}.tmp\"\n",
    "\n",
    "    # Run mapdump command\n",
    "    mapdump_args = [mapdump_command, \"MAPIN\", mapin_file]\n",
    "    mapdump_process = subprocess.run(mapdump_args, capture_output=True)\n",
    "\n",
    "    # Run mapmask command\n",
    "    mapmask_args = [mapmask_command, \"MAPIN\", mapin_file, \"MAPOUT\", mapout_file]\n",
    "    mapmask_process = subprocess.run(mapmask_args, capture_output=True)"
   ]
  },
  {
   "cell_type": "code",
   "execution_count": null,
   "id": "566f9004",
   "metadata": {},
   "outputs": [],
   "source": [
    "import subprocess\n",
    "\n",
    "command = '/opt/xtal/ccp4-8.0/bin/mapdump MAPIN \"/media/roberto/DAE01F61E01F4365/posdoctoral_barcelona/map-peaks/C1_polder.log_polder_map_coeffs_1.ccp4\"/opt/xtal/ccp4-8.0/bin/mapmask MAPIN \"/media/roberto/DAE01F61E01F4365/posdoctoral_barcelona/map-peaks/C1_polder.log_polder_map_coeffs_1.ccp4\" MAPOUT \"/media/roberto/DAE01F61E01F4365/posdoctoral_barcelona/map-peaks\"'\n",
    "\n",
    "process = subprocess.Popen(command, shell=True, stdout=subprocess.PIPE, stderr=subprocess.PIPE)\n",
    "stdout, stderr = process.communicate()\n",
    "\n",
    "if process.returncode == 0:\n",
    "    print('Command executed successfully')\n",
    "else:\n",
    "    print(f'Command failed with return code {process.returncode}')"
   ]
  },
  {
   "cell_type": "code",
   "execution_count": null,
   "id": "04d6e3e1",
   "metadata": {},
   "outputs": [],
   "source": [
    "from rdkit import Chem\n",
    "from rdkit.Chem import AllChem\n",
    "\n",
    "# Load the protein structure\n",
    "protein = Chem.MolFromPDBFile('protein.pdb')\n",
    "\n",
    "# Get the alpha carbon and oxygen atoms of residue 42\n",
    "residue = protein.GetResidueWithIdx(42)\n",
    "alpha_carbon = residue.GetAtomWithIdx(residue.GetAtomWithIdx('CA').GetIdx())\n",
    "oxygen = residue.GetAtomWithIdx(residue.GetAtomWithIdx('O').GetIdx())\n",
    "\n",
    "# Embed the molecule to obtain 3D coordinates\n",
    "AllChem.EmbedMolecule(protein)\n",
    "\n",
    "# Get the 3D coordinates of the alpha carbon and oxygen atoms\n",
    "alpha_carbon_coords = protein.GetConformer().GetAtomPosition(alpha_carbon.GetIdx())\n",
    "oxygen_coords = protein.GetConformer().GetAtomPosition(oxygen.GetIdx())\n",
    "\n",
    "# Calculate the Euclidean distance between the two atoms\n",
    "distance = distance.euclidean(oxygen_coords, alpha_carbon_coords)\n",
    "print(distance)"
   ]
  },
  {
   "cell_type": "code",
   "execution_count": null,
   "id": "012e21de",
   "metadata": {},
   "outputs": [],
   "source": [
    "import numpy as np\n",
    "\n",
    "# Define the coordinates of two points\n",
    "point1 = np.array([1, 2, 3])\n",
    "point2 = np.array([4, 5, 6])\n",
    "\n",
    "# Calculate the Euclidean distance between the two points\n",
    "dist = np.linalg.norm(point1 - point2)\n",
    "\n",
    "print(\"Euclidean distance between point1 and point2:\", dist)"
   ]
  }
 ],
 "metadata": {
  "kernelspec": {
   "display_name": "Python 3 (ipykernel)",
   "language": "python",
   "name": "python3"
  },
  "language_info": {
   "codemirror_mode": {
    "name": "ipython",
    "version": 3
   },
   "file_extension": ".py",
   "mimetype": "text/x-python",
   "name": "python",
   "nbconvert_exporter": "python",
   "pygments_lexer": "ipython3",
   "version": "3.9.13"
  }
 },
 "nbformat": 4,
 "nbformat_minor": 5
}
